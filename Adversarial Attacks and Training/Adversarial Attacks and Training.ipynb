{
  "cells": [
    {
      "cell_type": "markdown",
      "metadata": {
        "id": "hSeAlIrBqmLI"
      },
      "source": [
        "<center><h1>In the name of Allah</h1></center>"
      ]
    },
    {
      "cell_type": "markdown",
      "metadata": {
        "id": "7KT200FEqmLK"
      },
      "source": [
        "Name: Amirhossein Akbari\n",
        "\n",
        "Student Number: 400104737"
      ]
    },
    {
      "cell_type": "markdown",
      "metadata": {
        "id": "LJXwKPW3qmLL"
      },
      "source": [
        "In this notebook, you will explore adversarial attacks and training methods in deep learning. First, you will train a simple model, ResNet18, on the CIFAR-10 dataset. Next, you will learn about two different adversarial attacks: FGSM (Fast Gradient Sign Method) and PGD (Projected Gradient Descent). To enhance your understanding, you will implement the PGD attack from scratch, while the FGSM attack will be implemented using a library. After this, you will use the FGSM attack to generate adversarial examples and then perform adversarial training on the model using the CIFAR-10 dataset. Finally, you will compare the performance and robustness of the adversarially trained model with the original model.\n",
        "\n",
        "Good luck!"
      ]
    },
    {
      "cell_type": "markdown",
      "metadata": {
        "id": "suSwa3aGqmLL"
      },
      "source": [
        "## outline\n",
        "- Train Resnet on CIFAR10\n",
        "- FGSM Attack using torchattacks\n",
        "- PGD Attack from scratch\n",
        "- Visualization\n",
        "- Adversarial Training\n"
      ]
    },
    {
      "cell_type": "code",
      "execution_count": null,
      "metadata": {
        "colab": {
          "base_uri": "https://localhost:8080/"
        },
        "id": "GxQ609uL8ic8",
        "outputId": "3d222bae-82f3-4269-fafe-49ba0117b4a1"
      },
      "outputs": [
        {
          "name": "stdout",
          "output_type": "stream",
          "text": [
            "Requirement already satisfied: torchattacks in /usr/local/lib/python3.10/dist-packages (3.5.1)\n",
            "Requirement already satisfied: torch>=1.7.1 in /usr/local/lib/python3.10/dist-packages (from torchattacks) (2.3.0+cu121)\n",
            "Requirement already satisfied: torchvision>=0.8.2 in /usr/local/lib/python3.10/dist-packages (from torchattacks) (0.18.0+cu121)\n",
            "Requirement already satisfied: scipy>=0.14.0 in /usr/local/lib/python3.10/dist-packages (from torchattacks) (1.11.4)\n",
            "Requirement already satisfied: tqdm>=4.56.1 in /usr/local/lib/python3.10/dist-packages (from torchattacks) (4.66.4)\n",
            "Requirement already satisfied: requests~=2.25.1 in /usr/local/lib/python3.10/dist-packages (from torchattacks) (2.25.1)\n",
            "Requirement already satisfied: numpy>=1.19.4 in /usr/local/lib/python3.10/dist-packages (from torchattacks) (1.25.2)\n",
            "Requirement already satisfied: chardet<5,>=3.0.2 in /usr/local/lib/python3.10/dist-packages (from requests~=2.25.1->torchattacks) (4.0.0)\n",
            "Requirement already satisfied: idna<3,>=2.5 in /usr/local/lib/python3.10/dist-packages (from requests~=2.25.1->torchattacks) (2.10)\n",
            "Requirement already satisfied: urllib3<1.27,>=1.21.1 in /usr/local/lib/python3.10/dist-packages (from requests~=2.25.1->torchattacks) (1.26.19)\n",
            "Requirement already satisfied: certifi>=2017.4.17 in /usr/local/lib/python3.10/dist-packages (from requests~=2.25.1->torchattacks) (2024.6.2)\n",
            "Requirement already satisfied: filelock in /usr/local/lib/python3.10/dist-packages (from torch>=1.7.1->torchattacks) (3.15.3)\n",
            "Requirement already satisfied: typing-extensions>=4.8.0 in /usr/local/lib/python3.10/dist-packages (from torch>=1.7.1->torchattacks) (4.12.2)\n",
            "Requirement already satisfied: sympy in /usr/local/lib/python3.10/dist-packages (from torch>=1.7.1->torchattacks) (1.12.1)\n",
            "Requirement already satisfied: networkx in /usr/local/lib/python3.10/dist-packages (from torch>=1.7.1->torchattacks) (3.3)\n",
            "Requirement already satisfied: jinja2 in /usr/local/lib/python3.10/dist-packages (from torch>=1.7.1->torchattacks) (3.1.4)\n",
            "Requirement already satisfied: fsspec in /usr/local/lib/python3.10/dist-packages (from torch>=1.7.1->torchattacks) (2023.6.0)\n",
            "Requirement already satisfied: nvidia-cuda-nvrtc-cu12==12.1.105 in /usr/local/lib/python3.10/dist-packages (from torch>=1.7.1->torchattacks) (12.1.105)\n",
            "Requirement already satisfied: nvidia-cuda-runtime-cu12==12.1.105 in /usr/local/lib/python3.10/dist-packages (from torch>=1.7.1->torchattacks) (12.1.105)\n",
            "Requirement already satisfied: nvidia-cuda-cupti-cu12==12.1.105 in /usr/local/lib/python3.10/dist-packages (from torch>=1.7.1->torchattacks) (12.1.105)\n",
            "Requirement already satisfied: nvidia-cudnn-cu12==8.9.2.26 in /usr/local/lib/python3.10/dist-packages (from torch>=1.7.1->torchattacks) (8.9.2.26)\n",
            "Requirement already satisfied: nvidia-cublas-cu12==12.1.3.1 in /usr/local/lib/python3.10/dist-packages (from torch>=1.7.1->torchattacks) (12.1.3.1)\n",
            "Requirement already satisfied: nvidia-cufft-cu12==11.0.2.54 in /usr/local/lib/python3.10/dist-packages (from torch>=1.7.1->torchattacks) (11.0.2.54)\n",
            "Requirement already satisfied: nvidia-curand-cu12==10.3.2.106 in /usr/local/lib/python3.10/dist-packages (from torch>=1.7.1->torchattacks) (10.3.2.106)\n",
            "Requirement already satisfied: nvidia-cusolver-cu12==11.4.5.107 in /usr/local/lib/python3.10/dist-packages (from torch>=1.7.1->torchattacks) (11.4.5.107)\n",
            "Requirement already satisfied: nvidia-cusparse-cu12==12.1.0.106 in /usr/local/lib/python3.10/dist-packages (from torch>=1.7.1->torchattacks) (12.1.0.106)\n",
            "Requirement already satisfied: nvidia-nccl-cu12==2.20.5 in /usr/local/lib/python3.10/dist-packages (from torch>=1.7.1->torchattacks) (2.20.5)\n",
            "Requirement already satisfied: nvidia-nvtx-cu12==12.1.105 in /usr/local/lib/python3.10/dist-packages (from torch>=1.7.1->torchattacks) (12.1.105)\n",
            "Requirement already satisfied: triton==2.3.0 in /usr/local/lib/python3.10/dist-packages (from torch>=1.7.1->torchattacks) (2.3.0)\n",
            "Requirement already satisfied: nvidia-nvjitlink-cu12 in /usr/local/lib/python3.10/dist-packages (from nvidia-cusolver-cu12==11.4.5.107->torch>=1.7.1->torchattacks) (12.5.40)\n",
            "Requirement already satisfied: pillow!=8.3.*,>=5.3.0 in /usr/local/lib/python3.10/dist-packages (from torchvision>=0.8.2->torchattacks) (9.4.0)\n",
            "Requirement already satisfied: MarkupSafe>=2.0 in /usr/local/lib/python3.10/dist-packages (from jinja2->torch>=1.7.1->torchattacks) (2.1.5)\n",
            "Requirement already satisfied: mpmath<1.4.0,>=1.1.0 in /usr/local/lib/python3.10/dist-packages (from sympy->torch>=1.7.1->torchattacks) (1.3.0)\n"
          ]
        }
      ],
      "source": [
        "pip install torchattacks"
      ]
    },
    {
      "cell_type": "code",
      "execution_count": null,
      "metadata": {
        "id": "pPYvuZPRqmLM"
      },
      "outputs": [],
      "source": [
        "import torch\n",
        "import torchvision\n",
        "import torchvision.transforms as transforms\n",
        "from torchvision.models import resnet18\n",
        "import torch.nn as nn\n",
        "import torch.nn.functional as F\n",
        "import torch.optim as optim\n",
        "import numpy as np\n",
        "from torch.autograd import Variable\n",
        "from tqdm import tqdm\n",
        "from torch.utils.data import DataLoader\n",
        "import torchattacks\n",
        "import matplotlib.pyplot as plt"
      ]
    },
    {
      "cell_type": "code",
      "execution_count": null,
      "metadata": {
        "colab": {
          "base_uri": "https://localhost:8080/"
        },
        "id": "p8JDSVpqqmLM",
        "outputId": "43ee4bdc-6a86-4b9c-d075-e14717376d04"
      },
      "outputs": [
        {
          "name": "stdout",
          "output_type": "stream",
          "text": [
            "cuda:0\n"
          ]
        }
      ],
      "source": [
        "device = 'cuda:0' if torch.cuda.is_available() else 'cpu'\n",
        "print(device)"
      ]
    },
    {
      "cell_type": "markdown",
      "metadata": {
        "id": "Kv4XxNIvqmLN"
      },
      "source": [
        "## Train Resnet on CIFAR10 (15 pts)"
      ]
    },
    {
      "cell_type": "code",
      "execution_count": null,
      "metadata": {
        "colab": {
          "base_uri": "https://localhost:8080/"
        },
        "id": "6gogWPBfqmLN",
        "outputId": "7eef2a16-3f64-4457-f2bc-720a2a8e355e"
      },
      "outputs": [
        {
          "name": "stdout",
          "output_type": "stream",
          "text": [
            "Files already downloaded and verified\n",
            "Files already downloaded and verified\n"
          ]
        }
      ],
      "source": [
        "# Prepare Cifar10 data\n",
        "batch_size = 128\n",
        "transform = transforms.Compose([transforms.ToTensor(),])\n",
        "\n",
        "##############################################################################\n",
        "# Prepare training and test datasets and dataloaders                         #\n",
        "##############################################################################\n",
        "trainset = torchvision.datasets.CIFAR10(root='./data', train=True, download=True, transform=transform)\n",
        "trainloader = DataLoader(trainset, batch_size=batch_size, shuffle=True, num_workers=2)\n",
        "\n",
        "testset = torchvision.datasets.CIFAR10(root='./data', train=False, download=True, transform=transform)\n",
        "testloader = DataLoader(testset, batch_size=batch_size, shuffle=False, num_workers=2)\n",
        "################################ End #########################################\n",
        "\n",
        "classes = ('plane', 'car', 'bird', 'cat', 'deer', 'dog', 'frog', 'horse', 'ship', 'truck')"
      ]
    },
    {
      "cell_type": "code",
      "execution_count": null,
      "metadata": {
        "id": "jquutTWjqmLN"
      },
      "outputs": [],
      "source": [
        "# model architecture\n",
        "class resnet(nn.Module):\n",
        "  def __init__(self, num_cls):\n",
        "    super().__init__()\n",
        "    self.conv = nn.Sequential(*list(resnet18(weights=None).children())[:-2])\n",
        "    self.fc = nn.Linear(512, num_cls)\n",
        "\n",
        "  def forward(self, x):\n",
        "    x = self.conv(x)\n",
        "    x = torch.flatten(x, start_dim=1)\n",
        "    logits = self.fc(x)\n",
        "    return logits\n",
        "\n",
        "##############################################################################\n",
        "# Initialize model and move to device                                        #\n",
        "##############################################################################\n",
        "model = resnet(num_cls=10).to(device)\n",
        "\n",
        "################################ End #########################################"
      ]
    },
    {
      "cell_type": "code",
      "execution_count": null,
      "metadata": {
        "id": "7ztn5wrqqmLN"
      },
      "outputs": [],
      "source": [
        "learning_rate = 0.01\n",
        "criterion = nn.CrossEntropyLoss()\n",
        "optimizer = optim.SGD(model.parameters(), lr=learning_rate, momentum=0.9)\n",
        "epochs = 35"
      ]
    },
    {
      "cell_type": "code",
      "execution_count": null,
      "metadata": {
        "id": "CjwwZJJTqmLO"
      },
      "outputs": [],
      "source": [
        "##############################################################################\n",
        "# Implement train loop and log training loss after each epoch                #\n",
        "##############################################################################\n",
        "def train_model(model, trainloader, criterion, optimizer, num_epochs=10):\n",
        "    for epoch in range(num_epochs):\n",
        "        model.train()\n",
        "        running_loss = 0.0\n",
        "        for i, data in enumerate(trainloader, 0):\n",
        "            inputs, labels = data\n",
        "            inputs, labels = inputs.to(device), labels.to(device)\n",
        "\n",
        "            optimizer.zero_grad()\n",
        "\n",
        "            outputs = model(inputs)\n",
        "            loss = criterion(outputs, labels)\n",
        "            loss.backward()\n",
        "            optimizer.step()\n",
        "\n",
        "            running_loss += loss.item()\n",
        "        print(f'Epoch [{epoch + 1}/{num_epochs}], Loss: {running_loss / len(trainloader):.4f}')\n",
        "    print('Finished Training')\n",
        "\n",
        "################################ End #########################################"
      ]
    },
    {
      "cell_type": "code",
      "execution_count": null,
      "metadata": {
        "id": "8e5onlYCqmLO"
      },
      "outputs": [],
      "source": [
        "##############################################################################\n",
        "# Evaluate the trained model on test set and print test accuracy             #\n",
        "##############################################################################\n",
        "def test_model(model, testloader):\n",
        "    model.eval()\n",
        "    correct = 0\n",
        "    total = 0\n",
        "    with torch.no_grad():\n",
        "        for data in testloader:\n",
        "            images, labels = data\n",
        "            images, labels = images.to(device), labels.to(device)\n",
        "            outputs = model(images)\n",
        "            _, predicted = torch.max(outputs.data, 1)\n",
        "            total += labels.size(0)\n",
        "            correct += (predicted == labels).sum().item()\n",
        "    print(f'Accuracy of the network on the 10000 test images: {100 * correct / total:.2f}%')\n",
        "################################ End #########################################"
      ]
    },
    {
      "cell_type": "code",
      "execution_count": null,
      "metadata": {
        "colab": {
          "base_uri": "https://localhost:8080/"
        },
        "id": "P1J0AvRbwBVT",
        "outputId": "7353b13b-fd6b-4c31-cae0-2bd6c99681f5"
      },
      "outputs": [
        {
          "name": "stderr",
          "output_type": "stream",
          "text": [
            "/usr/local/lib/python3.10/dist-packages/torch/autograd/graph.py:744: UserWarning: Plan failed with a cudnnException: CUDNN_BACKEND_EXECUTION_PLAN_DESCRIPTOR: cudnnFinalize Descriptor Failed cudnn_status: CUDNN_STATUS_NOT_SUPPORTED (Triggered internally at ../aten/src/ATen/native/cudnn/Conv_v8.cpp:919.)\n",
            "  return Variable._execution_engine.run_backward(  # Calls into the C++ engine to run the backward pass\n"
          ]
        },
        {
          "name": "stdout",
          "output_type": "stream",
          "text": [
            "Epoch [1/35], Loss: 1.3764\n",
            "Epoch [2/35], Loss: 0.9900\n",
            "Epoch [3/35], Loss: 0.8121\n",
            "Epoch [4/35], Loss: 0.6818\n",
            "Epoch [5/35], Loss: 0.5808\n",
            "Epoch [6/35], Loss: 0.4892\n",
            "Epoch [7/35], Loss: 0.4040\n",
            "Epoch [8/35], Loss: 0.3344\n",
            "Epoch [9/35], Loss: 0.2702\n",
            "Epoch [10/35], Loss: 0.2230\n",
            "Epoch [11/35], Loss: 0.1877\n",
            "Epoch [12/35], Loss: 0.1540\n",
            "Epoch [13/35], Loss: 0.1257\n",
            "Epoch [14/35], Loss: 0.1216\n",
            "Epoch [15/35], Loss: 0.1105\n",
            "Epoch [16/35], Loss: 0.0890\n",
            "Epoch [17/35], Loss: 0.0974\n",
            "Epoch [18/35], Loss: 0.0728\n",
            "Epoch [19/35], Loss: 0.0766\n",
            "Epoch [20/35], Loss: 0.0726\n",
            "Epoch [21/35], Loss: 0.0685\n",
            "Epoch [22/35], Loss: 0.0721\n",
            "Epoch [23/35], Loss: 0.0564\n",
            "Epoch [24/35], Loss: 0.0588\n",
            "Epoch [25/35], Loss: 0.0504\n",
            "Epoch [26/35], Loss: 0.0593\n",
            "Epoch [27/35], Loss: 0.0490\n",
            "Epoch [28/35], Loss: 0.0561\n",
            "Epoch [29/35], Loss: 0.0447\n",
            "Epoch [30/35], Loss: 0.0490\n",
            "Epoch [31/35], Loss: 0.0397\n",
            "Epoch [32/35], Loss: 0.0463\n",
            "Epoch [33/35], Loss: 0.0385\n",
            "Epoch [34/35], Loss: 0.0451\n",
            "Epoch [35/35], Loss: 0.0346\n",
            "Finished Training\n",
            "Accuracy of the network on the 10000 test images: 76.42%\n"
          ]
        },
        {
          "name": "stderr",
          "output_type": "stream",
          "text": [
            "/usr/local/lib/python3.10/dist-packages/torch/nn/modules/conv.py:456: UserWarning: Plan failed with a cudnnException: CUDNN_BACKEND_EXECUTION_PLAN_DESCRIPTOR: cudnnFinalize Descriptor Failed cudnn_status: CUDNN_STATUS_NOT_SUPPORTED (Triggered internally at ../aten/src/ATen/native/cudnn/Conv_v8.cpp:919.)\n",
            "  return F.conv2d(input, weight, bias, self.stride,\n"
          ]
        }
      ],
      "source": [
        "optimizer = optim.Adam(model.parameters(), lr=0.001)\n",
        "train_model(model, trainloader, criterion, optimizer, epochs)\n",
        "\n",
        "test_model(model, testloader)"
      ]
    },
    {
      "cell_type": "code",
      "execution_count": null,
      "metadata": {
        "id": "lMVkZLkaqmLO"
      },
      "outputs": [],
      "source": [
        "# Save model\n",
        "model.eval()\n",
        "model_name = \"resnet18_cifar10_model_pretrained.pth\"\n",
        "model_PATH = f\"{model_name}\"\n",
        "torch.save(model.state_dict(), model_PATH)"
      ]
    },
    {
      "cell_type": "markdown",
      "metadata": {
        "id": "kAQGp0x-qmLO"
      },
      "source": [
        "## FGSM Attack using torchattacks (10 pts)"
      ]
    },
    {
      "cell_type": "markdown",
      "metadata": {
        "id": "TDl6s-X8qmLO"
      },
      "source": [
        "In this section you should run FGSM attack using torchattacks library (https://adversarial-attacks-pytorch.readthedocs.io/en/latest/index.html).\n",
        "\n",
        "Run the attack for $\\epsilon \\in \\{\\frac{1}{255}, \\frac{4}{255}, \\frac{8}{255},\\}$ report the performance of the model on untargeted FGSM attack on the test data."
      ]
    },
    {
      "cell_type": "code",
      "execution_count": null,
      "metadata": {
        "id": "PK_Yx-cg7ze7"
      },
      "outputs": [],
      "source": [
        "def run_fgsm_attack(model, testloader, epsilon):\n",
        "    model.eval()\n",
        "    attack = torchattacks.FGSM(model, eps=epsilon)\n",
        "    correct = 0\n",
        "    total = 0\n",
        "    for data in testloader:\n",
        "        images, labels = data\n",
        "        images, labels = images.to(device), labels.to(device)\n",
        "\n",
        "        # Set requires_grad attribute of tensor\n",
        "        images.requires_grad = True\n",
        "\n",
        "        # Perform attack\n",
        "        adv_images = attack(images, labels)\n",
        "\n",
        "        # Evaluate adversarial examples\n",
        "        outputs = model(adv_images)\n",
        "        _, predicted = torch.max(outputs.data, 1)\n",
        "        total += labels.size(0)\n",
        "        correct += (predicted == labels).sum().item()\n",
        "\n",
        "    accuracy = 100 * correct / total\n",
        "    print(f'Accuracy of the model on the test images with FGSM attack (epsilon={epsilon}): {accuracy:.2f}%')\n",
        "    return accuracy"
      ]
    },
    {
      "cell_type": "code",
      "execution_count": null,
      "metadata": {
        "colab": {
          "base_uri": "https://localhost:8080/"
        },
        "id": "MJTxqIdaqmLO",
        "outputId": "5fab0efa-3df2-4309-92ff-fa6e408e520b"
      },
      "outputs": [
        {
          "name": "stdout",
          "output_type": "stream",
          "text": [
            "Accuracy of the model on the test images with FGSM attack (epsilon=0.00392156862745098): 54.57%\n"
          ]
        }
      ],
      "source": [
        "##############################################################################\n",
        "# run untargeted FGSM attack for epsilon = 1/255 and report its accuracy     #\n",
        "##############################################################################\n",
        "epsilon_1_255 = 1/255\n",
        "accuracy_1_255 = run_fgsm_attack(model, testloader, epsilon_1_255)\n",
        "################################ End #########################################"
      ]
    },
    {
      "cell_type": "code",
      "execution_count": null,
      "metadata": {
        "colab": {
          "base_uri": "https://localhost:8080/"
        },
        "id": "h96xJ688qmLP",
        "outputId": "d677d5f1-0bbf-4217-b40f-b172dadee292"
      },
      "outputs": [
        {
          "name": "stdout",
          "output_type": "stream",
          "text": [
            "Accuracy of the model on the test images with FGSM attack (epsilon=0.01568627450980392): 18.63%\n"
          ]
        }
      ],
      "source": [
        "##############################################################################\n",
        "# run untargeted FGSM attack for epsilon = 4/255 and report its accuracy     #\n",
        "##############################################################################\n",
        "epsilon_4_255 = 4/255\n",
        "accuracy_4_255 = run_fgsm_attack(model, testloader, epsilon_4_255)\n",
        "################################ End #########################################"
      ]
    },
    {
      "cell_type": "code",
      "execution_count": null,
      "metadata": {
        "colab": {
          "base_uri": "https://localhost:8080/"
        },
        "id": "HlXXMU0QqmLP",
        "outputId": "862fc8fc-40a5-4b55-9050-de1a68b74d41"
      },
      "outputs": [
        {
          "name": "stdout",
          "output_type": "stream",
          "text": [
            "Accuracy of the model on the test images with FGSM attack (epsilon=0.03137254901960784): 5.96%\n"
          ]
        }
      ],
      "source": [
        "##############################################################################\n",
        "# run untargeted FGSM attack for epsilon = 8/255 and report its accuracy     #\n",
        "##############################################################################\n",
        "epsilon_8_255 = 8/255\n",
        "accuracy_8_255 = run_fgsm_attack(model, testloader, epsilon_8_255)\n",
        "################################ End #########################################"
      ]
    },
    {
      "cell_type": "markdown",
      "metadata": {
        "id": "rEjZtsW0qmLP"
      },
      "source": [
        "## PGD Attack from scratch (30 pts)"
      ]
    },
    {
      "cell_type": "markdown",
      "metadata": {
        "id": "0zEOSM-oqmLP"
      },
      "source": [
        "In this section you should implement PGD attack from scratch."
      ]
    },
    {
      "cell_type": "code",
      "execution_count": null,
      "metadata": {
        "id": "Dxa4FbuqqmLP"
      },
      "outputs": [],
      "source": [
        "class LinfPGDAttack(object):\n",
        "\n",
        "    def __init__(self, model, epsilon=8/255, k=2, alpha=2/255):\n",
        "        self.model = model\n",
        "        self.epsilon = epsilon\n",
        "        self.steps = k\n",
        "        self.alpha = alpha\n",
        "\n",
        "    def __call__(self, image, label):\n",
        "        image = image.to(device)\n",
        "        label = label.to(device)\n",
        "\n",
        "        out = self.model(image)\n",
        "        _, pred = torch.max(out, 1)\n",
        "\n",
        "        perturbed_image = image.clone().detach()\n",
        "        perturbed_image = perturbed_image.to(device)\n",
        "\n",
        "        if pred.item() == label.item():\n",
        "            ##############################################################################\n",
        "            # Implement a k step PGD attack of size alpha                                #\n",
        "            # while always staying within epsilon distance from the initial point        #\n",
        "            # Use cross entropy loss                                                     #\n",
        "            ##############################################################################\n",
        "            loss_fn = nn.CrossEntropyLoss()\n",
        "\n",
        "            for _ in range(self.steps):\n",
        "                perturbed_image.requires_grad = True\n",
        "                outputs = self.model(perturbed_image)\n",
        "\n",
        "                self.model.zero_grad()\n",
        "                loss = loss_fn(outputs, label)\n",
        "                loss.backward()\n",
        "\n",
        "                adv_images = perturbed_image + self.alpha * perturbed_image.grad.sign()\n",
        "                eta = torch.clamp(adv_images - image, min=-self.epsilon, max=self.epsilon)\n",
        "                perturbed_image = torch.clamp(image + eta, min=0, max=1).detach()\n",
        "            ################################ End #########################################\n",
        "\n",
        "        return perturbed_image\n"
      ]
    },
    {
      "cell_type": "code",
      "execution_count": null,
      "metadata": {
        "id": "ZWT7fi6lC-cs"
      },
      "outputs": [],
      "source": [
        "def run_pgd_attack(model, testloader, epsilon, k, alpha):\n",
        "    model.eval()\n",
        "    pgd_attack = LinfPGDAttack(model, epsilon=epsilon, k=k, alpha=alpha)\n",
        "    correct = 0\n",
        "    total = 0\n",
        "    for data in testloader:\n",
        "        images, labels = data\n",
        "        images, labels = images.to(device), labels.to(device)\n",
        "\n",
        "        perturbed_images = torch.zeros_like(images)\n",
        "        for i in range(len(images)):\n",
        "            perturbed_images[i] = pgd_attack(images[i].unsqueeze(0), labels[i].unsqueeze(0))\n",
        "\n",
        "        outputs = model(perturbed_images)\n",
        "        _, predicted = torch.max(outputs.data, 1)\n",
        "        total += labels.size(0)\n",
        "        correct += (predicted == labels).sum().item()\n",
        "\n",
        "    accuracy = 100 * correct / total\n",
        "    print(f'Accuracy of the model on the test images with PGD attack (epsilon={epsilon}, k={k}, alpha={alpha}): {accuracy:.2f}%')\n",
        "    return accuracy"
      ]
    },
    {
      "cell_type": "code",
      "execution_count": null,
      "metadata": {
        "colab": {
          "base_uri": "https://localhost:8080/"
        },
        "id": "YMuUWoedqmLP",
        "outputId": "7cab3d00-53e5-4948-a036-5b0f4f725989"
      },
      "outputs": [
        {
          "name": "stdout",
          "output_type": "stream",
          "text": [
            "Accuracy of the model on the test images with PGD attack (epsilon=0.03137254901960784, k=2, alpha=0.00784313725490196): 14.55%\n",
            "Accuracy of the model on the test images with PGD attack (epsilon=0.03137254901960784, k=4, alpha=0.00784313725490196): 1.89%\n",
            "Accuracy of the model on the test images with PGD attack (epsilon=0.03137254901960784, k=8, alpha=0.00784313725490196): 0.64%\n"
          ]
        }
      ],
      "source": [
        "##############################################################################\n",
        "# Evaluate PGD attack on the trained model with k=2,4,8                      #\n",
        "##############################################################################\n",
        "\n",
        "k_list = [2,4,8]\n",
        "\n",
        "##############################################################################\n",
        "\n",
        "epsilon = 8/255\n",
        "alpha = 2/255\n",
        "\n",
        "for k in k_list:\n",
        "    run_pgd_attack(model, testloader, epsilon, k, alpha)\n",
        "\n",
        "################################ End #########################################"
      ]
    },
    {
      "cell_type": "markdown",
      "metadata": {
        "id": "QadnW-JXqmLP"
      },
      "source": [
        "## Visualization (10 pts)"
      ]
    },
    {
      "cell_type": "markdown",
      "metadata": {
        "id": "FErR6OnnqmLP"
      },
      "source": [
        "Implement a function to plot the original image, the perturbed imaged and their predicted labels by the model"
      ]
    },
    {
      "cell_type": "code",
      "execution_count": null,
      "metadata": {
        "id": "sGrvE7OKqmLP"
      },
      "outputs": [],
      "source": [
        "##############################################################################\n",
        "# Implement the function described                                           #\n",
        "##############################################################################\n",
        "def plot_images(original, perturbed, original_label, perturbed_label, classes):\n",
        "    original = original.cpu().numpy().transpose(1, 2, 0)\n",
        "    perturbed = perturbed.cpu().numpy().transpose(1, 2, 0)\n",
        "\n",
        "    fig, axs = plt.subplots(1, 2, figsize=(10, 5))\n",
        "    axs[0].imshow(original)\n",
        "    axs[0].set_title(f'Original Image\\nLabel: {classes[original_label]}')\n",
        "    axs[0].axis('off')\n",
        "\n",
        "    axs[1].imshow(perturbed)\n",
        "    axs[1].set_title(f'Perturbed Image\\nLabel: {classes[perturbed_label]}')\n",
        "    axs[1].axis('off')\n",
        "\n",
        "    plt.show()\n",
        "################################ End #########################################"
      ]
    },
    {
      "cell_type": "code",
      "execution_count": null,
      "metadata": {
        "colab": {
          "base_uri": "https://localhost:8080/",
          "height": 1000
        },
        "id": "202MIXHWqmLP",
        "outputId": "be67c04f-d20c-4394-d29a-b2f196ccc080"
      },
      "outputs": [
        {
          "data": {
            "image/png": "[encoded data removed]",
            "text/plain": [
              "<Figure size 1000x500 with 2 Axes>"
            ]
          },
          "metadata": {},
          "output_type": "display_data"
        },
        {
          "data": {
            "image/png": "[encoded data removed]",
            "text/plain": [
              "<Figure size 1000x500 with 2 Axes>"
            ]
          },
          "metadata": {},
          "output_type": "display_data"
        },
        {
          "data": {
            "image/png": "[encoded data removed]",
            "text/plain": [
              "<Figure size 1000x500 with 2 Axes>"
            ]
          },
          "metadata": {},
          "output_type": "display_data"
        }
      ],
      "source": [
        "##############################################################################\n",
        "# Choose 3 random images from testset and run FGSM attack and visualize      #\n",
        "##############################################################################\n",
        "def visualize_fgsm_attack(model, testset, epsilon, num_images=3):\n",
        "    model.eval()\n",
        "    indices = np.random.choice(len(testset), num_images, replace=False)\n",
        "\n",
        "    for idx in indices:\n",
        "        image, label = testset[idx]\n",
        "        image = image.unsqueeze(0).to(device)\n",
        "        label = torch.tensor([label]).to(device)\n",
        "\n",
        "        # Perform FGSM attack\n",
        "        attack = torchattacks.FGSM(model, eps=epsilon)\n",
        "        perturbed_image = attack(image, label)\n",
        "\n",
        "        # Get model predictions\n",
        "        original_pred = model(image).argmax(1).item()\n",
        "        perturbed_pred = model(perturbed_image).argmax(1).item()\n",
        "\n",
        "        # Plot images\n",
        "        plot_images(image.squeeze(), perturbed_image.squeeze(), original_pred, perturbed_pred, classes)\n",
        "\n",
        "epsilon = 8/255\n",
        "visualize_fgsm_attack(model, testset, epsilon)\n",
        "################################ End #########################################"
      ]
    },
    {
      "cell_type": "code",
      "execution_count": null,
      "metadata": {
        "colab": {
          "base_uri": "https://localhost:8080/",
          "height": 1000
        },
        "id": "Bl6ESWyCqmLP",
        "outputId": "7ff179d6-29fe-49ba-d055-6abc7e424a2e"
      },
      "outputs": [
        {
          "data": {
            "image/png": "[encoded data removed]",
            "text/plain": [
              "<Figure size 1000x500 with 2 Axes>"
            ]
          },
          "metadata": {},
          "output_type": "display_data"
        },
        {
          "data": {
            "image/png": "[encoded data removed]",
            "text/plain": [
              "<Figure size 1000x500 with 2 Axes>"
            ]
          },
          "metadata": {},
          "output_type": "display_data"
        },
        {
          "data": {
            "image/png": "[encoded data removed]",
            "text/plain": [
              "<Figure size 1000x500 with 2 Axes>"
            ]
          },
          "metadata": {},
          "output_type": "display_data"
        }
      ],
      "source": [
        "##############################################################################\n",
        "# Choose 3 random images from testset and run PGD attack and visualize      #\n",
        "##############################################################################\n",
        "def visualize_pgd_attack(model, testset, epsilon, k, alpha, num_images=3):\n",
        "    model.eval()\n",
        "    indices = np.random.choice(len(testset), num_images, replace=False)\n",
        "\n",
        "    for idx in indices:\n",
        "        image, label = testset[idx]\n",
        "        image = image.unsqueeze(0).to(device)\n",
        "        label = torch.tensor([label]).to(device)\n",
        "\n",
        "        # Perform PGD attack\n",
        "        pgd_attack = LinfPGDAttack(model, epsilon=epsilon, k=k, alpha=alpha)\n",
        "        perturbed_image = pgd_attack(image, label)\n",
        "\n",
        "        # Get model predictions\n",
        "        original_pred = model(image).argmax(1).item()\n",
        "        perturbed_pred = model(perturbed_image).argmax(1).item()\n",
        "\n",
        "        # Plot images\n",
        "        plot_images(image.squeeze(), perturbed_image.squeeze(), original_pred, perturbed_pred, classes)\n",
        "\n",
        "epsilon = 8/255\n",
        "alpha = 2/255\n",
        "k = 4\n",
        "visualize_pgd_attack(model, testset, epsilon, k, alpha)\n",
        "################################ End #########################################"
      ]
    },
    {
      "cell_type": "markdown",
      "metadata": {
        "id": "cOevs0ZzqmLP"
      },
      "source": [
        "## Adversarial Training (35 pts)"
      ]
    },
    {
      "cell_type": "markdown",
      "metadata": {
        "id": "lJ640MbtqmLQ"
      },
      "source": [
        "In this section you are going to adversarially train your model and see the results."
      ]
    },
    {
      "cell_type": "code",
      "execution_count": null,
      "metadata": {
        "colab": {
          "base_uri": "https://localhost:8080/"
        },
        "id": "BoCFh2dJqmLQ",
        "outputId": "a2f7da0b-f07e-4a7d-89a8-69cdb0d9879c"
      },
      "outputs": [
        {
          "name": "stdout",
          "output_type": "stream",
          "text": [
            "Epoch [1/100], Loss: 2.1324\n",
            "Epoch [2/100], Loss: 2.0030\n",
            "Epoch [3/100], Loss: 1.9389\n",
            "Epoch [4/100], Loss: 1.8885\n",
            "Epoch [5/100], Loss: 1.8500\n",
            "Epoch [6/100], Loss: 1.8107\n",
            "Epoch [7/100], Loss: 1.7739\n",
            "Epoch [8/100], Loss: 1.7431\n",
            "Epoch [9/100], Loss: 1.7147\n",
            "Epoch [10/100], Loss: 1.6883\n",
            "Epoch [11/100], Loss: 1.6441\n",
            "Epoch [12/100], Loss: 1.6132\n",
            "Epoch [13/100], Loss: 1.5777\n",
            "Epoch [14/100], Loss: 1.5426\n",
            "Epoch [15/100], Loss: 1.5035\n",
            "Epoch [16/100], Loss: 1.4660\n",
            "Epoch [17/100], Loss: 1.4289\n",
            "Epoch [18/100], Loss: 1.3862\n",
            "Epoch [19/100], Loss: 1.3454\n",
            "Epoch [20/100], Loss: 1.3106\n",
            "Epoch [21/100], Loss: 1.2663\n",
            "Epoch [22/100], Loss: 1.2267\n",
            "Epoch [23/100], Loss: 1.1905\n",
            "Epoch [24/100], Loss: 1.1511\n",
            "Epoch [25/100], Loss: 1.1104\n",
            "Epoch [26/100], Loss: 1.0806\n",
            "Epoch [27/100], Loss: 1.0435\n",
            "Epoch [28/100], Loss: 1.0124\n",
            "Epoch [29/100], Loss: 0.9739\n",
            "Epoch [30/100], Loss: 0.9386\n",
            "Epoch [31/100], Loss: 0.9109\n",
            "Epoch [32/100], Loss: 0.8853\n",
            "Epoch [33/100], Loss: 0.8617\n",
            "Epoch [34/100], Loss: 0.8293\n",
            "Epoch [35/100], Loss: 0.8077\n",
            "Epoch [36/100], Loss: 0.7719\n",
            "Epoch [37/100], Loss: 0.7596\n",
            "Epoch [38/100], Loss: 0.7295\n",
            "Epoch [39/100], Loss: 0.7033\n",
            "Epoch [40/100], Loss: 0.6878\n",
            "Epoch [41/100], Loss: 0.6623\n",
            "Epoch [42/100], Loss: 0.6313\n",
            "Epoch [43/100], Loss: 0.6354\n",
            "Epoch [44/100], Loss: 0.6049\n",
            "Epoch [45/100], Loss: 0.5806\n",
            "Epoch [46/100], Loss: 0.5726\n",
            "Epoch [47/100], Loss: 0.5531\n",
            "Epoch [48/100], Loss: 0.5301\n",
            "Epoch [49/100], Loss: 0.5217\n",
            "Epoch [50/100], Loss: 0.5042\n",
            "Epoch [51/100], Loss: 0.4957\n",
            "Epoch [52/100], Loss: 0.4635\n",
            "Epoch [53/100], Loss: 0.4635\n",
            "Epoch [54/100], Loss: 0.4488\n",
            "Epoch [55/100], Loss: 0.4399\n",
            "Epoch [56/100], Loss: 0.4338\n",
            "Epoch [57/100], Loss: 0.4127\n",
            "Epoch [58/100], Loss: 0.3973\n",
            "Epoch [59/100], Loss: 0.3921\n",
            "Epoch [60/100], Loss: 0.3715\n",
            "Epoch [61/100], Loss: 0.3715\n",
            "Epoch [62/100], Loss: 0.3589\n",
            "Epoch [63/100], Loss: 0.3543\n",
            "Epoch [64/100], Loss: 0.3478\n",
            "Epoch [65/100], Loss: 0.3302\n",
            "Epoch [66/100], Loss: 0.3264\n",
            "Epoch [67/100], Loss: 0.3097\n",
            "Epoch [68/100], Loss: 0.3195\n",
            "Epoch [69/100], Loss: 0.3116\n",
            "Epoch [70/100], Loss: 0.2973\n",
            "Epoch [71/100], Loss: 0.2858\n",
            "Epoch [72/100], Loss: 0.2812\n",
            "Epoch [73/100], Loss: 0.2722\n",
            "Epoch [74/100], Loss: 0.2638\n",
            "Epoch [75/100], Loss: 0.2517\n",
            "Epoch [76/100], Loss: 0.2508\n",
            "Epoch [77/100], Loss: 0.2494\n",
            "Epoch [78/100], Loss: 0.2502\n",
            "Epoch [79/100], Loss: 0.2449\n",
            "Epoch [80/100], Loss: 0.2317\n",
            "Epoch [81/100], Loss: 0.2328\n",
            "Epoch [82/100], Loss: 0.2239\n",
            "Epoch [83/100], Loss: 0.2125\n",
            "Epoch [84/100], Loss: 0.2271\n",
            "Epoch [85/100], Loss: 0.2112\n",
            "Epoch [86/100], Loss: 0.2064\n",
            "Epoch [87/100], Loss: 0.2030\n",
            "Epoch [88/100], Loss: 0.1991\n",
            "Epoch [89/100], Loss: 0.2035\n",
            "Epoch [90/100], Loss: 0.1863\n",
            "Epoch [91/100], Loss: 0.1824\n",
            "Epoch [92/100], Loss: 0.1726\n",
            "Epoch [93/100], Loss: 0.1688\n",
            "Epoch [94/100], Loss: 0.1843\n",
            "Epoch [95/100], Loss: 0.1658\n",
            "Epoch [96/100], Loss: 0.1646\n",
            "Epoch [97/100], Loss: 0.1629\n",
            "Epoch [98/100], Loss: 0.1424\n",
            "Epoch [99/100], Loss: 0.1576\n",
            "Epoch [100/100], Loss: 0.1461\n",
            "Finished Adversarial Training\n"
          ]
        }
      ],
      "source": [
        "##############################################################################\n",
        "# Load a new resnet model for adversarial training                           #\n",
        "# Train the model on perturbed images from                                   #\n",
        "# untargeted FGSM attack with epsilon = 8/255 on train dataset               #\n",
        "# Also use the following setup for training the model                        #\n",
        "##############################################################################\n",
        "\n",
        "adv_model = resnet(num_cls=10).to(device)\n",
        "adv_model.to(device)\n",
        "\n",
        "learning_rate = 0.01\n",
        "criterion = nn.CrossEntropyLoss()\n",
        "optimizer = optim.SGD(adv_model.parameters(), lr=learning_rate, momentum=0.9)\n",
        "epochs = 100\n",
        "\n",
        "epsilon = 8/255\n",
        "fgsm_attack = torchattacks.FGSM(adv_model, eps=epsilon)\n",
        "\n",
        "def adversarial_train(model, trainloader, criterion, optimizer, epochs):\n",
        "    for epoch in range(epochs):\n",
        "        model.train()\n",
        "        running_loss = 0.0\n",
        "        for i, data in enumerate(trainloader, 0):\n",
        "            inputs, labels = data\n",
        "            inputs, labels = inputs.to(device), labels.to(device)\n",
        "\n",
        "            adv_inputs = fgsm_attack(inputs, labels)\n",
        "\n",
        "            optimizer.zero_grad()\n",
        "\n",
        "            outputs = model(adv_inputs)\n",
        "            loss = criterion(outputs, labels)\n",
        "            loss.backward()\n",
        "            optimizer.step()\n",
        "\n",
        "            running_loss += loss.item()\n",
        "        print(f'Epoch [{epoch + 1}/{epochs}], Loss: {running_loss / len(trainloader):.4f}')\n",
        "    print('Finished Adversarial Training')\n",
        "\n",
        "adversarial_train(adv_model, trainloader, criterion, optimizer, epochs)\n",
        "\n",
        "################################ End #########################################"
      ]
    },
    {
      "cell_type": "code",
      "execution_count": null,
      "metadata": {
        "colab": {
          "base_uri": "https://localhost:8080/"
        },
        "id": "RDyaG9K7qmLQ",
        "outputId": "8e0e272a-0542-4a9c-8ffa-a26ceacf4bfc"
      },
      "outputs": [
        {
          "name": "stdout",
          "output_type": "stream",
          "text": [
            "Accuracy of the adversarially trained model on the 10000 test images: 60.99%\n"
          ]
        }
      ],
      "source": [
        "##############################################################################\n",
        "# Evaluate the new model on the test dataset                                 #\n",
        "##############################################################################\n",
        "\n",
        "def test_adversarial_model(model, testloader):\n",
        "    model.eval()\n",
        "    correct = 0\n",
        "    total = 0\n",
        "    with torch.no_grad():\n",
        "        for data in testloader:\n",
        "            images, labels = data\n",
        "            images, labels = images.to(device), labels.to(device)\n",
        "            outputs = model(images)\n",
        "            _, predicted = torch.max(outputs.data, 1)\n",
        "            total += labels.size(0)\n",
        "            correct += (predicted == labels).sum().item()\n",
        "    print(f'Accuracy of the adversarially trained model on the 10000 test images: {100 * correct / total:.2f}%')\n",
        "\n",
        "# Test the adversarially trained model\n",
        "test_adversarial_model(adv_model, testloader)\n",
        "\n",
        "################################ End #########################################"
      ]
    },
    {
      "cell_type": "code",
      "execution_count": null,
      "metadata": {
        "colab": {
          "base_uri": "https://localhost:8080/"
        },
        "id": "zfLLVMPEqmLQ",
        "outputId": "b104e050-d420-4606-d9df-2f5b17be0175"
      },
      "outputs": [
        {
          "name": "stdout",
          "output_type": "stream",
          "text": [
            "Accuracy of the model on the test images with FGSM attack (epsilon=0.03137254901960784): 22.97%\n"
          ]
        }
      ],
      "source": [
        "##############################################################################\n",
        "# Run FGSM attack on the adversarially trained model with epsilon = 8/255    #\n",
        "##############################################################################\n",
        "\n",
        "accuracy_fgsm = run_fgsm_attack(adv_model, testloader, epsilon)\n",
        "\n",
        "################################ End #########################################"
      ]
    },
    {
      "cell_type": "code",
      "execution_count": null,
      "metadata": {
        "colab": {
          "base_uri": "https://localhost:8080/"
        },
        "id": "jAg-z5UqqmLQ",
        "outputId": "359a5ee5-557f-44a9-88dc-d45dc794c15d"
      },
      "outputs": [
        {
          "name": "stdout",
          "output_type": "stream",
          "text": [
            "Accuracy of the model on the test images with PGD attack (epsilon=0.03137254901960784, k=4, alpha=0.00784313725490196): 19.02%\n"
          ]
        }
      ],
      "source": [
        "##############################################################################\n",
        "#  Run PGD attack on the adversarially trained model with k=4                #\n",
        "##############################################################################\n",
        "\n",
        "k = 4\n",
        "alpha = 2/255\n",
        "accuracy_pgd = run_pgd_attack(adv_model, testloader, epsilon, k, alpha)\n",
        "\n",
        "################################ End #########################################"
      ]
    },
    {
      "cell_type": "markdown",
      "metadata": {
        "id": "XPBDF-JpqmLQ"
      },
      "source": [
        "Answer the following questions:\n",
        "- What happened to the accuracy of the adversarially trained model?\n",
        "\n",
        "دقت مدل در این حالت کمتر از دقت مدل در حالتی که به صورت خصمانه آموزش ندیده بود شد که خب علتش هم همان نویزی بود که برای آموزش حالت خصمانه به آن اضافه میکردیم در قسمت آموزش\n",
        "\n",
        "- What do you conclude from the result of the FGSM attack on the adversarially trained model?\n",
        "\n",
        "در این حالت چون اینبار مدل را با اف جی اس ام به صورت خصمانه آموزش داده ایم و روی که اف جی اس ام به مدل اتک میزند را به مدل آموزش داده ایم سبب میشود که مدل ما کمتر درصد دقتش افت کند که به خاطر همین میتوان گفت موفقیت آمیز بوده است\n",
        "\n",
        "- What do you conclude from the result of the PGD attack on the adversarially trained model?\n",
        "\n",
        "در این حالت همانطور که میبینیم دقت از اتک قبلی همچنان پایین تر است دقت ما از اتک با پی جی دی به مدل بدون آموزش خصمانه بسیار بهتر است. به عبارتی با اینکه برای آموزش از اتک پی جی دی استفاده نمیکردیم ولی به هرحال نسبت به آن باز هم روباست تر شده است.\n",
        "\n",
        "- What is you final conclusion?\n",
        "\n",
        "متوجه میشویم که فارغ از اینکه مدل خود را به چه شکلی به صورت خصمانه آموزش بدهیم، نسبت به اکثر دیگر حمله ها نیز روباست تر خواهد بود نسبت به مدلی که به صورت ساده و بدون حالت خصمانه آموزش دیده است. البته این روباستنس را در ازای این داریم که دقت اصلی مدل در حالت عادی مقداری پایین تر خواهد آمد که احتمالا برای ما میصرفد."
      ]
    },
    {
      "cell_type": "markdown",
      "metadata": {
        "id": "_nF_I30cJlO-"
      },
      "source": []
    },
    {
      "cell_type": "code",
      "execution_count": null,
      "metadata": {
        "id": "NbYKp1AtJnGE"
      },
      "outputs": [],
      "source": []
    }
  ],
  "metadata": {
    "accelerator": "GPU",
    "colab": {
      "gpuType": "T4",
      "provenance": []
    },
    "kernelspec": {
      "display_name": "Python 3",
      "name": "python3"
    },
    "language_info": {
      "name": "python"
    }
  },
  "nbformat": 4,
  "nbformat_minor": 0
}
